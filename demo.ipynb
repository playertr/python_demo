{
 "cells": [
  {
   "cell_type": "code",
   "execution_count": null,
   "metadata": {},
   "outputs": [],
   "source": [
    "import numpy as np\n",
    "import matplotlib.pyplot as plt\n",
    "\n",
    "latitudes = np.range(36.58,37.01, 100)\n",
    "longitudes = np.range(-122.274, -121.727, 100)\n",
    "\n",
    "XX, YY = np.meshgrid(latitudes, longitudes)\n",
    "\n"
   ]
  }
 ],
 "metadata": {
  "language_info": {
   "name": "python"
  },
  "orig_nbformat": 4
 },
 "nbformat": 4,
 "nbformat_minor": 2
}
