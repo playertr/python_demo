{
 "cells": [
  {
   "cell_type": "markdown",
   "metadata": {},
   "source": [
    "# `demo.ipynb`\n",
    "Demonstration of numpy, matplotlib, pandas, and xarray/geoviews"
   ]
  },
  {
   "cell_type": "markdown",
   "metadata": {},
   "source": [
    "## numpy demo\n",
    "Use Numpy to create a fake dataset of phytoplankton concentration across latitude and longitude."
   ]
  },
  {
   "cell_type": "code",
   "execution_count": null,
   "metadata": {},
   "outputs": [],
   "source": [
    "import numpy as np\n",
    "import matplotlib.pyplot as plt\n",
    "\n",
    "longitudes = np.linspace(-122.274, -121.727, 100)\n",
    "latitudes = np.linspace(36.58,37.01, 100)\n",
    "\n",
    "def fancy_function(x, y):\n",
    "    \"\"\"A 2D Gaussian.\"\"\"\n",
    "    return np.exp( \n",
    "        - ((x - longitudes.mean())**2 + (y - latitudes.mean())**2)) \\\n",
    "        / (latitudes.max() - latitudes.min()\n",
    "    )"
   ]
  },
  {
   "cell_type": "markdown",
   "metadata": {},
   "source": [
    "## pandas demo\n",
    "Use pandas to label the dataset"
   ]
  },
  {
   "cell_type": "code",
   "execution_count": null,
   "metadata": {},
   "outputs": [],
   "source": [
    "import pandas as pd\n",
    "\n",
    "# for dataframe, we want each column to have a single quantity, like a spreadsheet.\n",
    "data = np.zeros((len(latitudes) * len(longitudes), 3))\n",
    "\n",
    "row = 0\n",
    "for i in range(len(longitudes)):\n",
    "    for j in range(len(latitudes)):\n",
    "        data[row, 0] = longitudes[i]\n",
    "        data[row, 1] = latitudes[j]\n",
    "        data[row, 2] = fancy_function(longitudes[i], latitudes[j])\n",
    "\n",
    "        row += 1\n",
    "\n",
    "df = pd.DataFrame(data, columns=['Longitude', 'Latitude', 'plankton_concentration'])\n",
    "\n",
    "df\n"
   ]
  },
  {
   "cell_type": "markdown",
   "metadata": {},
   "source": [
    "## matplotlib demo\n",
    "Plot an image of the generated dataset."
   ]
  },
  {
   "cell_type": "code",
   "execution_count": null,
   "metadata": {},
   "outputs": [],
   "source": [
    "fig, ax = plt.subplots()\n",
    "hb = ax.hexbin(df.Longitude, df.Latitude, C=df.plankton_concentration, gridsize=20)\n",
    "ax.axis([df.Longitude.min(), df.Longitude.max(), df.Latitude.min(), df.Latitude.max()])\n",
    "ax.set_xlabel('Longitude ($^\\circ$)')\n",
    "ax.set_ylabel('Latitude ($^\\circ$)')\n",
    "fig.colorbar(hb, ax=ax, label='Plankton Per Planck Length')\n",
    "fig.suptitle('Plankton Concentration Near MBARI')"
   ]
  },
  {
   "cell_type": "code",
   "execution_count": null,
   "metadata": {},
   "outputs": [],
   "source": [
    "# Aside: \"for\" loops in Python can be kind of slow. With numpy, it is often faster to use \n",
    "# \"vectorized\" operations that use numpy's built-in iterators instead of for loops. However,\n",
    "# you need to be very familiar with the different functions numpy provides: its \"API\". Here's\n",
    "# how this looks for our toy example.\n",
    "\n",
    "# Create a (100 X 100) array of x-coordinates\n",
    "# and a (100 X 100) array of y-coordinates\n",
    "# such that (XX[i,j], YY[i,j]) = (x_i, y_j)\n",
    "YY, XX = np.meshgrid(latitudes, longitudes)\n",
    "\n",
    "# Use ravel() to collapse each coordinate array into a 1D vector.\n",
    "# Because the numpy operation in fancy_function are vectorized, they can quickly process\n",
    "# these vectors in parallel (using numpy's C++ code).\n",
    "# This line creates a (10_000,) element vector.\n",
    "plankton_concentration = fancy_function(XX.ravel(), YY.ravel()).reshape(len(XX), len(YY))\n",
    "\n",
    "# Collect the latitude data, longitude data, and plankton concentration into a single array.\n",
    "data2 = np.stack([XX.ravel(), YY.ravel(), plankton_concentration.ravel()]).T\n",
    "\n",
    "# The result you get is the same either way!\n",
    "assert(np.allclose(data, data2))\n",
    "\n",
    "# The vectorized implementation is 127 us, and the for-loop implementation is 139 ms,\n",
    "# around a ~1000x speedup. (I used the %%timeit cell magic to test.)"
   ]
  },
  {
   "cell_type": "markdown",
   "metadata": {},
   "source": [
    "## geoviews demo\n",
    "Use geoviews to plot the data on a fancy interactive globe."
   ]
  },
  {
   "cell_type": "code",
   "execution_count": null,
   "metadata": {},
   "outputs": [],
   "source": [
    "import geoviews as gv\n",
    "import geoviews.feature as gf\n",
    "from cartopy import crs\n",
    "gv.extension('bokeh', 'matplotlib')"
   ]
  },
  {
   "cell_type": "code",
   "execution_count": null,
   "metadata": {},
   "outputs": [],
   "source": [
    "import xarray as xr\n",
    "xrds = xr.Dataset.from_dataframe(df.set_index(['Longitude', 'Latitude']))"
   ]
  },
  {
   "cell_type": "code",
   "execution_count": null,
   "metadata": {},
   "outputs": [],
   "source": [
    "ds = gv.Dataset(xrds)"
   ]
  },
  {
   "cell_type": "code",
   "execution_count": null,
   "metadata": {},
   "outputs": [],
   "source": [
    "ds.to(gv.Image, ['Longitude', 'Latitude'], 'plankton_concentration')"
   ]
  },
  {
   "cell_type": "code",
   "execution_count": null,
   "metadata": {},
   "outputs": [],
   "source": [
    "ds.plot()"
   ]
  },
  {
   "cell_type": "code",
   "execution_count": null,
   "metadata": {},
   "outputs": [],
   "source": [
    "from geoviews import opts\n",
    "(ds.to.image(['Longitude', 'Latitude']) * gf.coastline).opts(\n",
    "    opts.Image(projection=crs.Geostationary(), cmap='Greens', xaxis=None, yaxis=None))"
   ]
  },
  {
   "cell_type": "code",
   "execution_count": null,
   "metadata": {},
   "outputs": [],
   "source": [
    "(gv.Polygons(ds) * gf.coastline).opts(\n",
    "    width=600, height=400, tools=['hover'], infer_projection=True)"
   ]
  }
 ],
 "metadata": {
  "kernelspec": {
   "display_name": "Python 3.8.13 ('demo_env')",
   "language": "python",
   "name": "python3"
  },
  "language_info": {
   "codemirror_mode": {
    "name": "ipython",
    "version": 3
   },
   "file_extension": ".py",
   "mimetype": "text/x-python",
   "name": "python",
   "nbconvert_exporter": "python",
   "pygments_lexer": "ipython3",
   "version": "3.8.13"
  },
  "orig_nbformat": 4,
  "vscode": {
   "interpreter": {
    "hash": "c2b958b603a79d07266ef2b09aef565a8ccc7fb91418b6da4ee48f9c2b32016f"
   }
  }
 },
 "nbformat": 4,
 "nbformat_minor": 2
}
